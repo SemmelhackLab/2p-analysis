{
 "cells": [
  {
   "cell_type": "code",
   "execution_count": null,
   "metadata": {},
   "outputs": [],
   "source": [
    "from attention_project_utils import *\n",
    "from suite2p import run_s2p\n",
    "import imagej\n",
    "import matplotlib.pyplot as plt\n",
    "import os\n",
    "import numpy as np\n",
    "import scyjava_config\n",
    "%matplotlib notebook\n",
    "\n",
    "# Path to your Fiji installation that includes\n",
    "fiji_path = 'fiji'\n",
    "#fiji_path = 'C:\\\\Users\\\\Semmelhack Lab\\\\Downloads\\\\fiji-win64\\\\Fiji'\n",
    "# Initialize Fiji\n",
    "scyjava_config.add_options('-Xmx8g')\n",
    "ij = imagej.init(fiji_path)\n",
    "ij.getVersion()\n",
    "ij.ui().showUI()"
   ]
  },
  {
   "cell_type": "markdown",
   "metadata": {},
   "source": [
    "## Select directory containing `.h5` and `.nd2` data"
   ]
  },
  {
   "cell_type": "code",
   "execution_count": null,
   "metadata": {},
   "outputs": [],
   "source": [
    "fish_dir = \"D:/BISWADEEP_DATA/\""
   ]
  },
  {
   "cell_type": "code",
   "execution_count": null,
   "metadata": {},
   "outputs": [],
   "source": [
    "nd2_files = list(filter(lambda x: \"wholebrain\" not in x, list_files(fish_dir, extension='nd2')))\n",
    "\n",
    "processed_dir = fish_dir + '/processed'\n",
    "avi_dir = processed_dir + '/avi'\n",
    "raw_tif_dir = processed_dir + '/raw tif'\n",
    "combined_tif_dir = processed_dir + '/combined tif/'\n",
    "intensity_dir = processed_dir + '/intensity'\n",
    "registered_tif_dir = processed_dir + '/registered tif'\n",
    "comb_registered_tif_dir = combined_tif_dir + '/combined_registered'\n",
    "neural_dir = processed_dir + '/neural'\n",
    "behavior_dir = processed_dir + '/behavior'\n",
    "\n",
    "for directory in [processed_dir, avi_dir, raw_tif_dir, combined_tif_dir,\n",
    "                  intensity_dir, registered_tif_dir, neural_dir, behavior_dir, comb_registered_tif_dir]:\n",
    "    create_directory(directory)\n",
    "    \n",
    "raw_tif_files = list(map(lambda x: x.replace('nd2', 'tif').replace(fish_dir, raw_tif_dir), nd2_files))"
   ]
  },
  {
   "cell_type": "markdown",
   "metadata": {},
   "source": [
    "## Macro for converting `.nd2` image data to `.tif` files"
   ]
  },
  {
   "cell_type": "code",
   "execution_count": null,
   "metadata": {},
   "outputs": [],
   "source": [
    "nd2_to_tif = \"\"\"\n",
    "#@ String nd2_path\n",
    "#@ String save_path\n",
    "setBatchMode(true);\n",
    "//run(\"Memory & Threads...\", \"maximum=12143 parallel=8 run\");\n",
    "run(\"Bio-Formats Importer\", \"open=[\" + nd2_path + \"] autoscale color_mode=Default rois_import=[ROI manager] view=Hyperstack stack_order=XYCZT\");\n",
    "run(\"Rotate 90 Degrees Left\");\n",
    "run(\"8-bit\");\n",
    "saveAs(\"Tiff\", save_path);\n",
    "run(\"Close All\");\n",
    "\"\"\""
   ]
  },
  {
   "cell_type": "code",
   "execution_count": null,
   "metadata": {},
   "outputs": [],
   "source": [
    "\n",
    "for nd2_file, tif_file  in zip(nd2_files, raw_tif_files):\n",
    "    args = {\n",
    "        'nd2_path': nd2_file,\n",
    "        'save_path': tif_file\n",
    "    }\n",
    "    ij.py.run_script('ijm', nd2_to_tif, args)"
   ]
  },
  {
   "cell_type": "markdown",
   "metadata": {},
   "source": [
    "## Macro for combining multiple `.tif` files into one `.tif` file"
   ]
  },
  {
   "cell_type": "code",
   "execution_count": null,
   "metadata": {},
   "outputs": [],
   "source": [
    "combine_tif = \"\"\"\n",
    "#@ String[] tif_files\n",
    "#@ String save_directory\n",
    "#@output String slices\n",
    "setBatchMode(true);\n",
    "open(tif_files[0]);\n",
    "image1 = getTitle();\n",
    "slices = toString(nSlices);\n",
    "\n",
    "for (i = 1; i < tif_files.length; ++i) {\n",
    "    open(tif_files[i]);\n",
    "    image2 = getTitle();\n",
    "    slices = slices + \" \" + toString(nSlices);\n",
    "    run(\"Concatenate...\", \"open image1=\" + image1 + \" image2=\"+ image2);\n",
    "    image1 = getTitle();\n",
    "}\n",
    "saveAs(\"Tiff\", save_directory + \"combined.tif\");\n",
    "run(\"Close All\");\n",
    "\"\"\""
   ]
  },
  {
   "cell_type": "code",
   "execution_count": null,
   "metadata": {},
   "outputs": [],
   "source": [
    "args = {\n",
    "    'tif_files': raw_tif_files,\n",
    "    'save_directory': combined_tif_dir + '/'\n",
    "}\n",
    "\n",
    "slices = ij.py.run_script('ijm', combine_tif, args).getOutput('slices')\n",
    "slices = list(map(lambda x: int(x), slices.split(\" \")))\n",
    "print(slices)"
   ]
  },
  {
   "cell_type": "markdown",
   "metadata": {},
   "source": [
    "## Run suite2p"
   ]
  },
  {
   "cell_type": "code",
   "execution_count": null,
   "metadata": {},
   "outputs": [],
   "source": [
    "ops = run_s2p.default_ops()\n",
    "ops['batch_size'] = 200\n",
    "ops['roidetect'] = False\n",
    "ops['reg_tif'] = True\n",
    "ops['save_folder'] =combined_tif_dir\n",
    "ops['reg_tif'] = True\n",
    "\n",
    "db = {\n",
    "      'h5py': [],\n",
    "      'h5py_key': 'data',\n",
    "      'look_one_level_down': False,\n",
    "      'data_path': [combined_tif_dir],                     \n",
    "      'subfolders': [], 'reg_tif': True\n",
    "    }"
   ]
  },
  {
   "cell_type": "code",
   "execution_count": null,
   "metadata": {},
   "outputs": [],
   "source": [
    "opsEnd=run_s2p.run_s2p(ops=ops,db=db)"
   ]
  },
  {
   "cell_type": "code",
   "execution_count": null,
   "metadata": {},
   "outputs": [],
   "source": [
    "## MACRO FOR COMBINING THE REGISTERED TIFS"
   ]
  },
  {
   "cell_type": "code",
   "execution_count": null,
   "metadata": {},
   "outputs": [],
   "source": [
    "combine_tif = \"\"\"\n",
    "#@ String[] tif_files\n",
    "#@ String save_directory\n",
    "#@output String slices\n",
    "setBatchMode(true);\n",
    "open(tif_files[0]);\n",
    "image1 = getTitle();\n",
    "slices = toString(nSlices);\n",
    "\n",
    "for (i = 1; i < tif_files.length; ++i) {\n",
    "    open(tif_files[i]);\n",
    "    image2 = getTitle();\n",
    "    slices = slices + \" \" + toString(nSlices);\n",
    "    run(\"Concatenate...\", \"open image1=\" + image1 + \" image2=\"+ image2);\n",
    "    image1 = getTitle();\n",
    "}\n",
    "saveAs(\"Tiff\", save_directory + \"combined_reg.tif\");\n",
    "run(\"Close All\");\n",
    "\"\"\""
   ]
  },
  {
   "cell_type": "code",
   "execution_count": null,
   "metadata": {},
   "outputs": [],
   "source": [
    "args = {\n",
    "    'tif_files': list_files(combined_tif_dir +'/plane0/reg_tif'),\n",
    "    'save_directory': comb_registered_tif_dir + '/'\n",
    "}\n",
    "\n",
    "slices = ij.py.run_script('ijm', combine_tif, args).getOutput('slices')\n",
    "slices = list(map(lambda x: int(x), slices.split(\" \")))\n",
    "print(slices)"
   ]
  },
  {
   "cell_type": "markdown",
   "metadata": {},
   "source": [
    "## Macro for watershed segmentation"
   ]
  },
  {
   "cell_type": "code",
   "execution_count": null,
   "metadata": {},
   "outputs": [],
   "source": [
    "segmentation = \"\"\"\n",
    "#@ String image_path\n",
    "\n",
    "open(image_path);\n",
    "window_name = getTitle();\n",
    "output_directory = replace(image_path, window_name, \"\");\n",
    "run(\"Z Project...\", \"projection=[Average Intensity]\");\n",
    "selectWindow(window_name);\n",
    "run(\"Close\");\n",
    "avg = getTitle();\n",
    "run(\"8-bit\");\n",
    "setTool(\"rectangle\");\n",
    "waitForUser(\"Pause\", \"Draw midbox\"); // Ask for input ROI\n",
    "saveAs(\"XY Coordinates\", output_directory + \"Midline.txt\");\n",
    "run(\"Select None\");\n",
    "setTool(\"polygon\");\n",
    "waitForUser(\"Pause\", \"Draw a mask\");\n",
    "run(\"Create Mask\");\n",
    "saveAs(\"Tiff\", output_directory + \"Mask.tif\");\n",
    "imageCalculator(\"AND create stack\", avg , \"Mask.tif\");\n",
    "run(\"Enhance Contrast...\", \"saturated=0.3 normalize\");\n",
    "run(\"Median...\", \"radius=1 stack\");\n",
    "run(\"Morphological Filters\", \"operation=[White Top Hat] element=Disk radius=3\");\n",
    "run(\"Invert\");\n",
    "run(\"Watershed Segmentation\");\n",
    "waitForUser(\"Pause\", \"Check results\");\n",
    "saveAs(\"Tiff\", output_directory + \"label.tif\");\n",
    "run(\"Analyze Regions\", \"area perimeter circularity centroid \");\n",
    "saveAs(\"Results\", output_directory + \"label-Morphometry.csv\");\n",
    "run(\"Close All\");\n",
    "\"\"\""
   ]
  },
  {
   "cell_type": "code",
   "execution_count": null,
   "metadata": {},
   "outputs": [],
   "source": [
    "registered_tif = comb_registered_tif_dir + \"/combined_reg.tif\"\n",
    "\n",
    "args = {\n",
    "    'image_path': registered_tif,\n",
    "}\n",
    "ij.py.run_script('ijm', segmentation, args)"
   ]
  },
  {
   "cell_type": "markdown",
   "metadata": {},
   "source": [
    "## Macro for separating registered combined `.tif` imaging data"
   ]
  },
  {
   "cell_type": "code",
   "execution_count": null,
   "metadata": {},
   "outputs": [],
   "source": [
    "separate = \"\"\"\n",
    "#@ String combined_tif_path\n",
    "#@ String save_path\n",
    "#@ String nfiles\n",
    "#@ String nfiles2\n",
    "\n",
    "setBatchMode(true);\n",
    "open(combined_tif_path);\n",
    "main_window = getTitle();\n",
    "folder = replace(combined_tif_path, main_window, \"\");\n",
    "save_folder = folder + \"results\\\\\";\n",
    "\n",
    "File.makeDirectory(replace(combined_tif_path, main_window, \"results\"));\n",
    "length_per_slice = toString(round(nSlices/nfiles));\n",
    "print(length_per_slice);\n",
    "for (i = 0; i < nfiles; ++i) {\n",
    "    if (i < nfiles2) {\n",
    "        run(\"Make Substack...\", \"delete slices=1-\" + length_per_slice);\n",
    "        curr_win = getTitle();\n",
    "    }\n",
    "    run(\"8-bit\");\n",
    "    saveAs(\"Tiff\", save_path + \"T\" + toString(i+1));\n",
    "    selectWindow(\"T\" + toString(i+1)  + \".tif\");\n",
    "    run(\"Close\");\n",
    "}\n",
    "run(\"Close All\");\n",
    "\n",
    "\"\"\""
   ]
  },
  {
   "cell_type": "code",
   "execution_count": null,
   "metadata": {},
   "outputs": [],
   "source": [
    "nfiles = 6 # assuming the number of images per file are uniform\n",
    "args = {\n",
    "    'combined_tif_path':  comb_registered_tif_dir + \"/combined_reg.tif\",\n",
    "    'save_path': registered_tif_dir + '/',\n",
    "    'nfiles': nfiles,\n",
    "    'nfiles2': nfiles-1\n",
    "}\n",
    "ij.py.run_script('ijm', separate, args)"
   ]
  },
  {
   "cell_type": "markdown",
   "metadata": {},
   "source": [
    "## Macro for getting the intensities of ROIs "
   ]
  },
  {
   "cell_type": "code",
   "execution_count": null,
   "metadata": {},
   "outputs": [],
   "source": [
    "get_intensity = \"\"\"\n",
    "setBatchMode(true)\n",
    "#@ String label\n",
    "#@ String save_folder\n",
    "#@ String[] file_list\n",
    "setBatchMode(true);\n",
    "for (i = 0; i < file_list.length; ++i) {\n",
    "    temp = split(file_list[i], \"/\");\n",
    "    getInt(file_list[i], label, save_folder + replace(temp[temp.length - 1], \".tif\", \"/\"));\n",
    "}\n",
    "\n",
    "function getInt(image, label, save_folder) {\n",
    "    if (!File.exists(save_folder)) {\n",
    "        File.makeDirectory(save_folder);\n",
    "    }\n",
    "    open(label);\n",
    "    label_window = replace(getTitle(), \".tif\", \"\");\n",
    "    open(image);\n",
    "    image = getTitle();\n",
    "    run(\"8-bit\");\n",
    "    for(i = 1; i <= nSlices; ++i) {\n",
    "        setSlice(i); // start from first frame\n",
    "        run(\"Duplicate...\", \"use\"); // isolate the frame\n",
    "        current_slice = getTitle();\n",
    "        print(current_slice);\n",
    "        curr = replace(current_slice, \".tif\", \"\");\n",
    "        //print(curr);\n",
    "        run(\"Intensity Measurements 2D/3D\", \"input=\" + curr + \" labels=\" + label_window +  \" mean\");\n",
    "        saveAs(\"Results\", save_folder + \"int_t\" + toString(i) + \".csv\");\n",
    "        run(\"Close\");\n",
    "        selectWindow(current_slice);\n",
    "        run(\"Close\");\n",
    "    }\n",
    "}\n",
    "\"\"\""
   ]
  },
  {
   "cell_type": "code",
   "execution_count": null,
   "metadata": {
    "scrolled": true
   },
   "outputs": [],
   "source": [
    "label = comb_registered_tif_dir + '/label.tif'\n",
    "\n",
    "args = {\n",
    "    'label': label,\n",
    "    'save_folder': intensity_dir + '/',\n",
    "    'file_list': list_files(registered_tif_dir),\n",
    "}\n",
    "ij.py.run_script('ijm', get_intensity, args)"
   ]
  },
  {
   "cell_type": "markdown",
   "metadata": {},
   "source": [
    "## Combine and process `.csv` files"
   ]
  },
  {
   "cell_type": "code",
   "execution_count": null,
   "metadata": {},
   "outputs": [],
   "source": [
    "morphology = pd.read_csv( comb_registered_tif_dir+ '/label-Morphometry.csv')\n",
    "neurons = np.array(morphology[(morphology.Area < 300) & (morphology.Area > 10) & (morphology.Circularity > 0.5) & (morphology.Circularity < 1.5)].Label)\n",
    "\n",
    "for trial_dir in list_directories(intensity_dir):\n",
    "    split = trial_dir.split('/')[-1].replace('-', '_').replace('.', '_').split('_')\n",
    "    fish_trial = split[0]\n",
    "    df = pd.concat([pd.read_csv(int_file).set_index('Label').rename(\n",
    "                   columns={'Mean': int(int_file.split('t')[-1].split('.')[0]) - 1})\n",
    "                   for int_file in list_files(trial_dir)], axis=1)\n",
    "\n",
    "    df = df.reindex(sorted(df.columns), axis=1).transpose()\n",
    "    new_df = df[neurons].transpose()\n",
    "    new_df.to_csv(neural_dir + '/' + fish_trial + '.csv')"
   ]
  },
  {
   "cell_type": "code",
   "execution_count": null,
   "metadata": {},
   "outputs": [],
   "source": [
    "def view_roi(label, vis_tif, selected_labels):\n",
    "    '''\n",
    "    function to visualise the neurons in Fiji\n",
    "    label is the image containing the segmented ROIs\n",
    "    vis_tif is the timelapse image you want to overlap the ROIs with\n",
    "    selected_labels are the index number of ROIs you want to visualize\n",
    "    '''\n",
    "    ROI_viewer = \"\"\"\n",
    "    #@ String label\n",
    "    #@ String reg_tif\n",
    "    #@ String labels\n",
    "\n",
    "    open(label);\n",
    "    label = getTitle();\n",
    "    run(\"Select Label(s)\", \"label(s)=\" + labels);\n",
    "    run(\"Labels To RGB\", \"colormap=Spectrum background=Black shuffle\");\n",
    "    run(\"Morphological Filters\", \"operation=[Internal Gradient] element=Disk radius=0.5\");\n",
    "    new_label = getTitle();\n",
    "    selectWindow(label);\n",
    "    run(\"Close\");\n",
    "    open(reg_tif);\n",
    "    img = getTitle();\n",
    "    run(\"RGB Color\");\n",
    "    imageCalculator(\"Add create stack\", img, new_label);\n",
    "\n",
    "    selectWindow(\"label-keepLabels\");\n",
    "    run(\"Close\");\n",
    "    selectWindow(\"label-keepLabels-rgb\");\n",
    "    run(\"Close\");\n",
    "\n",
    "    selectWindow(img);\n",
    "    run(\"Z Project...\", \"projection=[Average Intensity]\");\n",
    "    avg = getTitle();\n",
    "    selectWindow(img);\n",
    "    run(\"Close\");\n",
    "    imageCalculator(\"Add create\", avg, new_label);\n",
    "    lbl_avg = getTitle();\n",
    "    run(\"Concatenate...\", \"open image1=[\"+ avg +\"] image2=[\" + lbl_avg + \"] image3=[-- None --]\");\n",
    "    selectWindow(\"label-keepLabels-rgb-Internal Gradient\");\n",
    "    run(\"Close\");\n",
    "    \"\"\"\n",
    "\n",
    "\n",
    "    args = {\n",
    "        'label': label,\n",
    "        'reg_tif': vis_tif,\n",
    "        'labels': selected_labels,\n",
    "    }\n",
    "\n",
    "    ij.py.run_script('ijm',ROI_viewer, args)"
   ]
  },
  {
   "cell_type": "code",
   "execution_count": null,
   "metadata": {},
   "outputs": [],
   "source": [
    "label = comb_registered_tif_dir + '/label.tif'\n",
    "reg_tif =  registered_tif_dir + '/T1.tif'\n",
    "selected_labels = list(pd.read_csv(neural_dir+ '/T1.csv').Label)\n",
    "\n",
    "view_roi(label, reg_tif, selected_labels)"
   ]
  },
  {
   "cell_type": "code",
   "execution_count": null,
   "metadata": {},
   "outputs": [],
   "source": []
  },
  {
   "cell_type": "code",
   "execution_count": null,
   "metadata": {},
   "outputs": [],
   "source": []
  }
 ],
 "metadata": {
  "kernelspec": {
   "display_name": "Python 3",
   "language": "python",
   "name": "python3"
  },
  "language_info": {
   "codemirror_mode": {
    "name": "ipython",
    "version": 3
   },
   "file_extension": ".py",
   "mimetype": "text/x-python",
   "name": "python",
   "nbconvert_exporter": "python",
   "pygments_lexer": "ipython3",
   "version": "3.6.10"
  }
 },
 "nbformat": 4,
 "nbformat_minor": 2
}
